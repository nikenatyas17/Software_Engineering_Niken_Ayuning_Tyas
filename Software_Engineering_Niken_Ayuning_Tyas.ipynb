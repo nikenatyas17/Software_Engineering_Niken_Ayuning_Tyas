{
  "nbformat": 4,
  "nbformat_minor": 0,
  "metadata": {
    "colab": {
      "name": "Software_Engineering_Niken_Ayuning_Tyas.ipynb",
      "provenance": [],
      "collapsed_sections": []
    },
    "kernelspec": {
      "name": "python3",
      "display_name": "Python 3"
    },
    "language_info": {
      "name": "python"
    }
  },
  "cells": [
    {
      "cell_type": "code",
      "metadata": {
        "id": "1iE2o30rBtGj"
      },
      "source": [
        "Nama_Siswa = [\"Bambang\", \"Budi\", \"Joko\", \"alvin\", \"Said\", \"mariano\", \"david\"]"
      ],
      "execution_count": null,
      "outputs": []
    },
    {
      "cell_type": "code",
      "metadata": {
        "colab": {
          "base_uri": "https://localhost:8080/"
        },
        "id": "_8MhiPcXBy6V",
        "outputId": "61178c7d-c8d3-43d7-d054-8b262ddbd8ed"
      },
      "source": [
        "Nama_Siswa[0:7:3]"
      ],
      "execution_count": null,
      "outputs": [
        {
          "output_type": "execute_result",
          "data": {
            "text/plain": [
              "['Bambang', 'alvin', 'david']"
            ]
          },
          "metadata": {},
          "execution_count": 2
        }
      ]
    }
  ]
}