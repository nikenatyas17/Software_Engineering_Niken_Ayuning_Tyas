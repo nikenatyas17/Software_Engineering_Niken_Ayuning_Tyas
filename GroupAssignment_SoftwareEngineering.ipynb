{
  "nbformat": 4,
  "nbformat_minor": 0,
  "metadata": {
    "colab": {
      "name": "GroupAssignment_SoftwareEngineering.ipynb",
      "provenance": [],
      "collapsed_sections": []
    },
    "kernelspec": {
      "name": "python3",
      "display_name": "Python 3"
    },
    "language_info": {
      "name": "python"
    }
  },
  "cells": [
    {
      "cell_type": "code",
      "metadata": {
        "id": "V8cMUDKsUmS4"
      },
      "source": [
        "\"\"\"\n",
        "    Function determines odd and even number\n",
        "    Group members: Cindy Zulani & Niken Ayuning Tyas\n",
        "\"\"\"\n",
        "\n",
        "\n",
        "#num() function is to determine if a number is odd or even. this function returns output as odd or even number.\n",
        "def num(a):\n",
        "    if a%2 == 0:\n",
        "        output = \"even number\"\n",
        "    else:\n",
        "        output = \"odd number\"\n",
        "    return output\n",
        "\n",
        "#to take user input\n",
        "a = int(input('Enter the number: '))  \n",
        "output = num(a)  \n",
        "#print if the number that user's input is odd or even\n",
        "print('{} is {}'.format(a,output))\n"
      ],
      "execution_count": null,
      "outputs": []
    }
  ]
}